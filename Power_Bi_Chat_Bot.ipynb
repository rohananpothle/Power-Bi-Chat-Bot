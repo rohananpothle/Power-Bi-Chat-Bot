{
  "cells": [
    {
      "cell_type": "markdown",
      "metadata": {
        "id": "view-in-github",
        "colab_type": "text"
      },
      "source": [
        "<a href=\"https://colab.research.google.com/github/rohananpothle/Basic_ChatBot_Data_Science_Project/blob/main/Power_Bi_Chat_Bot.ipynb\" target=\"_parent\"><img src=\"https://colab.research.google.com/assets/colab-badge.svg\" alt=\"Open In Colab\"/></a>"
      ]
    },
    {
      "cell_type": "code",
      "source": [
        "# powerbi_chatbot.py\n",
        "\n",
        "import pandas as pd\n",
        "import gradio as gr\n",
        "import pickle\n",
        "\n",
        "# ----------------------------- Helper Modules -----------------------------\n",
        "\n",
        "def data_cleaning_recommendations(df):\n",
        "    recommendations = []\n",
        "    if df.isnull().values.any():\n",
        "        recommendations.append(\"- Missing values found. Recommend filling with mean/median or removing rows.\")\n",
        "    if df.duplicated().any():\n",
        "        recommendations.append(\"- Duplicate rows detected. Consider removing them.\")\n",
        "    for col in df.columns:\n",
        "        if df[col].dtype == 'object':\n",
        "            if df[col].str.contains(r'[^a-zA-Z0-9\\s]').any():\n",
        "                recommendations.append(f\"- Column '{col}' contains special characters. Clean up may be required.\")\n",
        "        if 'date' in col.lower() or 'time' in col.lower():\n",
        "            try:\n",
        "                pd.to_datetime(df[col])\n",
        "            except Exception:\n",
        "                recommendations.append(f\"- Column '{col}' has date/time format issues. Convert to datetime.\")\n",
        "    return \"\\n\".join(recommendations) if recommendations else \"No major cleaning needed.\"\n",
        "\n",
        "\n",
        "def suggest_conditional_columns(df):\n",
        "    suggestions = []\n",
        "    lower_cols = [col.lower() for col in df.columns]\n",
        "    if 'sales' in lower_cols and 'target' in lower_cols:\n",
        "        suggestions.append(\"- Add column 'Performance': IF Sales > Target THEN 'Achieved' ELSE 'Pending'\")\n",
        "    if any('date' in col for col in lower_cols):\n",
        "        suggestions.append(\"- Add 'Month', 'Quarter', 'Year' columns from date column for time-based analysis.\")\n",
        "    return \"\\n\".join(suggestions) if suggestions else \"No conditional columns detected.\"\n",
        "\n",
        "\n",
        "def generate_power_query_steps(df):\n",
        "    steps = []\n",
        "    for col in df.columns:\n",
        "        dtype = str(df[col].dtype)\n",
        "        if dtype == 'object':\n",
        "            steps.append(f\"= Table.TransformColumnTypes(Source, {{\\\"{col}\\\", type text}})\")\n",
        "        elif 'int' in dtype or 'float' in dtype:\n",
        "            steps.append(f\"= Table.TransformColumnTypes(Source, {{\\\"{col}\\\", type number}})\")\n",
        "        elif 'datetime' in dtype:\n",
        "            steps.append(f\"= Table.TransformColumnTypes(Source, {{\\\"{col}\\\", type datetime}})\")\n",
        "    return \"\\n\".join(steps)\n",
        "\n",
        "\n",
        "def recommend_kpis_and_dax(df):\n",
        "    dax_suggestions = []\n",
        "    columns = [col.lower() for col in df.columns]\n",
        "\n",
        "    metrics = {\n",
        "        \"revenue\": [\n",
        "            (\"YoY Growth\", \"YoY Growth =\\nVAR CurrentYear = SUM('Table'[Revenue])\\nVAR LastYear = CALCULATE(SUM('Table'[Revenue]), SAMEPERIODLASTYEAR('Table'[Date]))\\nRETURN (CurrentYear - LastYear) / LastYear\"),\n",
        "            (\"MTD Revenue\", \"MTD Revenue = TOTALMTD(SUM('Table'[Revenue]), 'Table'[Date])\")\n",
        "        ],\n",
        "        \"sales\": [\n",
        "            (\"Total Sales\", \"Total Sales = SUM('Table'[Sales])\"),\n",
        "            (\"Average Sales\", \"Average Sales = AVERAGE('Table'[Sales])\")\n",
        "        ],\n",
        "        \"quantity\": [\n",
        "            (\"Total Quantity\", \"Total Quantity = SUM('Table'[Quantity])\")\n",
        "        ],\n",
        "        \"profit\": [\n",
        "            (\"Profit Margin\", \"Profit Margin = DIVIDE(SUM('Table'[Profit]), SUM('Table'[Revenue]))\")\n",
        "        ],\n",
        "        \"customerid\": [\n",
        "            (\"Customer Count\", \"Customer Count = DISTINCTCOUNT('Table'[CustomerID])\")\n",
        "        ]\n",
        "    }\n",
        "\n",
        "    found_kpi = False\n",
        "    for key, formulas in metrics.items():\n",
        "        if key in columns:\n",
        "            found_kpi = True\n",
        "            for title, formula in formulas:\n",
        "                dax_suggestions.append(f\"Suggested KPI: {title}\")\n",
        "                dax_suggestions.append(formula)\n",
        "\n",
        "    if not found_kpi:\n",
        "        numeric_cols = df.select_dtypes(include=['number']).columns\n",
        "        for col in numeric_cols:\n",
        "            dax_suggestions.append(f\"Suggested KPI: Sum of {col}\")\n",
        "            dax_suggestions.append(f\"{col}_Total = SUM('Table'[{col}])\")\n",
        "\n",
        "    return \"\\n\\n\".join(dax_suggestions)\n",
        "\n",
        "\n",
        "def powerbi_project_steps():\n",
        "    return \"\"\"1. Import Data\n",
        "2. Clean and transform data in Power Query\n",
        "3. Create Date Table\n",
        "4. Define relationships between tables\n",
        "5. Create conditional columns and calculated columns\n",
        "6. Create KPIs using DAX\n",
        "7. Build report visuals (charts, tables, KPIs)\n",
        "8. Add slicers, filters, tooltips\n",
        "9. Test interactions and performance\n",
        "10. Publish to Power BI Service\n",
        "11. Set up auto refresh & row-level security if needed\"\"\"\n",
        "\n",
        "# ----------------------------- Gradio UI -----------------------------\n",
        "\n",
        "def chatbot_interface(file):\n",
        "    df = pd.read_csv(file.name) if file.name.endswith(\".csv\") else pd.read_excel(file.name)\n",
        "\n",
        "    cleaning = data_cleaning_recommendations(df)\n",
        "    conditional = suggest_conditional_columns(df)\n",
        "    power_query = generate_power_query_steps(df)\n",
        "    dax = recommend_kpis_and_dax(df)\n",
        "    project_steps = powerbi_project_steps()\n",
        "\n",
        "    with open(\"uploaded_dataset.pkl\", \"wb\") as f:\n",
        "        pickle.dump(df, f)\n",
        "\n",
        "    return cleaning, conditional, power_query, dax, project_steps\n",
        "\n",
        "interface = gr.Interface(\n",
        "    fn=chatbot_interface,\n",
        "    inputs=gr.File(label=\"Upload Dataset (.csv or .xlsx)\"),\n",
        "    outputs=[\n",
        "        gr.Textbox(label=\"Data Cleaning Suggestions\"),\n",
        "        gr.Textbox(label=\"Conditional Columns to Add\"),\n",
        "        gr.Textbox(label=\"Power Query Steps (M Code)\"),\n",
        "        gr.Textbox(label=\"KPI Recommendations + DAX\"),\n",
        "        gr.Textbox(label=\"Power BI Project Workflow\")\n",
        "    ],\n",
        "    title=\"Power BI Chatbot Assistant\",\n",
        "    description=\"Upload your dataset to receive end-to-end Power BI recommendations: cleaning, Power Query steps, KPIs with DAX, and project steps.\"\n",
        ")\n",
        "\n",
        "if __name__ == \"__main__\":\n",
        "    interface.launch()\n"
      ],
      "metadata": {
        "colab": {
          "base_uri": "https://localhost:8080/",
          "height": 626
        },
        "id": "2zZoXDW-iuWH",
        "outputId": "ba3290ef-fa42-4bab-9020-aed93c58e617"
      },
      "execution_count": null,
      "outputs": [
        {
          "output_type": "stream",
          "name": "stdout",
          "text": [
            "It looks like you are running Gradio on a hosted a Jupyter notebook. For the Gradio app to work, sharing must be enabled. Automatically setting `share=True` (you can turn this off by setting `share=False` in `launch()` explicitly).\n",
            "\n",
            "Colab notebook detected. To show errors in colab notebook, set debug=True in launch()\n",
            "* Running on public URL: https://ece1587b8523286983.gradio.live\n",
            "\n",
            "This share link expires in 1 week. For free permanent hosting and GPU upgrades, run `gradio deploy` from the terminal in the working directory to deploy to Hugging Face Spaces (https://huggingface.co/spaces)\n"
          ]
        },
        {
          "output_type": "display_data",
          "data": {
            "text/plain": [
              "<IPython.core.display.HTML object>"
            ],
            "text/html": [
              "<div><iframe src=\"https://ece1587b8523286983.gradio.live\" width=\"100%\" height=\"500\" allow=\"autoplay; camera; microphone; clipboard-read; clipboard-write;\" frameborder=\"0\" allowfullscreen></iframe></div>"
            ]
          },
          "metadata": {}
        }
      ]
    }
  ],
  "metadata": {
    "colab": {
      "provenance": [],
      "authorship_tag": "ABX9TyPkbhjjL2/1RrRy26J1aHa4",
      "include_colab_link": true
    },
    "kernelspec": {
      "display_name": "Python 3",
      "name": "python3"
    },
    "language_info": {
      "name": "python"
    }
  },
  "nbformat": 4,
  "nbformat_minor": 0
}